{
 "cells": [
  {
   "cell_type": "code",
   "execution_count": 1,
   "metadata": {},
   "outputs": [],
   "source": [
    "import pandas as pd"
   ]
  },
  {
   "cell_type": "code",
   "execution_count": 7,
   "metadata": {},
   "outputs": [],
   "source": [
    "df = pd.read_csv(\"kek.csv\")\n",
    "df.drop('Unnamed: 0', axis = 1, inplace = True)"
   ]
  },
  {
   "cell_type": "code",
   "execution_count": 14,
   "metadata": {},
   "outputs": [
    {
     "data": {
      "text/plain": [
       "'Опыт разработки на Python не менее 3 лет, разработки на >=Python 3.6. Навык работы с SQLAlchemy. Навык работы PostgreSQL. '"
      ]
     },
     "execution_count": 14,
     "metadata": {},
     "output_type": "execute_result"
    }
   ],
   "source": [
    "\n",
    "df['requirement'][7]"
   ]
  },
  {
   "cell_type": "code",
   "execution_count": 16,
   "metadata": {},
   "outputs": [],
   "source": [
    "df = df.dropna()"
   ]
  },
  {
   "cell_type": "code",
   "execution_count": 17,
   "metadata": {},
   "outputs": [
    {
     "data": {
      "text/plain": [
       "0     Знание языка Python (версия 2 и 3). Опыт работ...\n",
       "1     Инициативность и целеустремленность. Хорошее з...\n",
       "2     Bachelor or master degree in STEM field. Exper...\n",
       "3     Умение читать / писать код на python и С++. Оп...\n",
       "4     Коммерческий опыт на Python минимум 2-3 года. ...\n",
       "5     Необходимый опыт и знания: - Широкий опыт разр...\n",
       "6     Опыт коммерческой разработки на Python от 2-х ...\n",
       "7     Опыт разработки на Python не менее 3 лет, разр...\n",
       "8     опыт организации асинхронных API на Celery (Py...\n",
       "9     Любопытство и жажда знаний. Доброжелательность...\n",
       "10    Python-разработчик, найдись! Уверенное владени...\n",
       "11    Знание Python на уровне Middle. Опыт работы в ...\n",
       "13    Опыт работы: Python(Flask, BeautifulSoup, Spla...\n",
       "Name: requirement, dtype: object"
      ]
     },
     "execution_count": 17,
     "metadata": {},
     "output_type": "execute_result"
    }
   ],
   "source": [
    "df['requirement']"
   ]
  },
  {
   "cell_type": "code",
   "execution_count": 23,
   "metadata": {},
   "outputs": [],
   "source": [
    "for j in df['requirement']:\n",
    "    for i in j.lower().split():\n",
    "        df[i] = 0"
   ]
  },
  {
   "cell_type": "code",
   "execution_count": 25,
   "metadata": {},
   "outputs": [
    {
     "data": {
      "text/html": [
       "<div>\n",
       "<style scoped>\n",
       "    .dataframe tbody tr th:only-of-type {\n",
       "        vertical-align: middle;\n",
       "    }\n",
       "\n",
       "    .dataframe tbody tr th {\n",
       "        vertical-align: top;\n",
       "    }\n",
       "\n",
       "    .dataframe thead th {\n",
       "        text-align: right;\n",
       "    }\n",
       "</style>\n",
       "<table border=\"1\" class=\"dataframe\">\n",
       "  <thead>\n",
       "    <tr style=\"text-align: right;\">\n",
       "      <th></th>\n",
       "      <th>title</th>\n",
       "      <th>href</th>\n",
       "      <th>company</th>\n",
       "      <th>requirement</th>\n",
       "      <th>salary</th>\n",
       "      <th>знание</th>\n",
       "      <th>языка</th>\n",
       "      <th>python</th>\n",
       "      <th>(версия</th>\n",
       "      <th>2</th>\n",
       "      <th>...</th>\n",
       "      <th>работы</th>\n",
       "      <th>с</th>\n",
       "      <th>фреймворками:</th>\n",
       "      <th>tornado</th>\n",
       "      <th>(async),</th>\n",
       "      <th>flask,</th>\n",
       "      <th>bottle.</th>\n",
       "      <th>написания</th>\n",
       "      <th>sql</th>\n",
       "      <th>запросов.</th>\n",
       "    </tr>\n",
       "  </thead>\n",
       "  <tbody>\n",
       "    <tr>\n",
       "      <th>0</th>\n",
       "      <td>Разработчик Python</td>\n",
       "      <td>https://hh.ru/vacancy/30451399?query=Python</td>\n",
       "      <td>Открытые Технологии</td>\n",
       "      <td>Знание языка Python (версия 2 и 3). Опыт работ...</td>\n",
       "      <td>150000.0</td>\n",
       "      <td>0</td>\n",
       "      <td>0</td>\n",
       "      <td>0</td>\n",
       "      <td>0</td>\n",
       "      <td>0</td>\n",
       "      <td>...</td>\n",
       "      <td>0</td>\n",
       "      <td>0</td>\n",
       "      <td>0</td>\n",
       "      <td>0</td>\n",
       "      <td>0</td>\n",
       "      <td>0</td>\n",
       "      <td>0</td>\n",
       "      <td>0</td>\n",
       "      <td>0</td>\n",
       "      <td>0</td>\n",
       "    </tr>\n",
       "    <tr>\n",
       "      <th>1</th>\n",
       "      <td>Разработчик Python</td>\n",
       "      <td>https://hh.ru/vacancy/31067847?query=Python</td>\n",
       "      <td>ООО Коннектом</td>\n",
       "      <td>Инициативность и целеустремленность. Хорошее з...</td>\n",
       "      <td>160000.0</td>\n",
       "      <td>0</td>\n",
       "      <td>0</td>\n",
       "      <td>0</td>\n",
       "      <td>0</td>\n",
       "      <td>0</td>\n",
       "      <td>...</td>\n",
       "      <td>0</td>\n",
       "      <td>0</td>\n",
       "      <td>0</td>\n",
       "      <td>0</td>\n",
       "      <td>0</td>\n",
       "      <td>0</td>\n",
       "      <td>0</td>\n",
       "      <td>0</td>\n",
       "      <td>0</td>\n",
       "      <td>0</td>\n",
       "    </tr>\n",
       "    <tr>\n",
       "      <th>2</th>\n",
       "      <td>Python / Django developer</td>\n",
       "      <td>https://hh.ru/vacancy/30226206?query=Python</td>\n",
       "      <td>NetworkOptix</td>\n",
       "      <td>Bachelor or master degree in STEM field. Exper...</td>\n",
       "      <td>4000.0</td>\n",
       "      <td>0</td>\n",
       "      <td>0</td>\n",
       "      <td>0</td>\n",
       "      <td>0</td>\n",
       "      <td>0</td>\n",
       "      <td>...</td>\n",
       "      <td>0</td>\n",
       "      <td>0</td>\n",
       "      <td>0</td>\n",
       "      <td>0</td>\n",
       "      <td>0</td>\n",
       "      <td>0</td>\n",
       "      <td>0</td>\n",
       "      <td>0</td>\n",
       "      <td>0</td>\n",
       "      <td>0</td>\n",
       "    </tr>\n",
       "    <tr>\n",
       "      <th>3</th>\n",
       "      <td>Data Engineering Team Lead (Python / C++)</td>\n",
       "      <td>https://hh.ru/vacancy/31078426?query=Python</td>\n",
       "      <td>DataFork</td>\n",
       "      <td>Умение читать / писать код на python и С++. Оп...</td>\n",
       "      <td>350000.0</td>\n",
       "      <td>0</td>\n",
       "      <td>0</td>\n",
       "      <td>0</td>\n",
       "      <td>0</td>\n",
       "      <td>0</td>\n",
       "      <td>...</td>\n",
       "      <td>0</td>\n",
       "      <td>0</td>\n",
       "      <td>0</td>\n",
       "      <td>0</td>\n",
       "      <td>0</td>\n",
       "      <td>0</td>\n",
       "      <td>0</td>\n",
       "      <td>0</td>\n",
       "      <td>0</td>\n",
       "      <td>0</td>\n",
       "    </tr>\n",
       "    <tr>\n",
       "      <th>4</th>\n",
       "      <td>Программист Python</td>\n",
       "      <td>https://hh.ru/vacancy/30109493?query=Python</td>\n",
       "      <td>Star-staff</td>\n",
       "      <td>Коммерческий опыт на Python минимум 2-3 года. ...</td>\n",
       "      <td>145000.0</td>\n",
       "      <td>0</td>\n",
       "      <td>0</td>\n",
       "      <td>0</td>\n",
       "      <td>0</td>\n",
       "      <td>0</td>\n",
       "      <td>...</td>\n",
       "      <td>0</td>\n",
       "      <td>0</td>\n",
       "      <td>0</td>\n",
       "      <td>0</td>\n",
       "      <td>0</td>\n",
       "      <td>0</td>\n",
       "      <td>0</td>\n",
       "      <td>0</td>\n",
       "      <td>0</td>\n",
       "      <td>0</td>\n",
       "    </tr>\n",
       "  </tbody>\n",
       "</table>\n",
       "<p>5 rows × 23 columns</p>\n",
       "</div>"
      ],
      "text/plain": [
       "                                       title  \\\n",
       "0                         Разработчик Python   \n",
       "1                         Разработчик Python   \n",
       "2                  Python / Django developer   \n",
       "3  Data Engineering Team Lead (Python / C++)   \n",
       "4                         Программист Python   \n",
       "\n",
       "                                          href               company  \\\n",
       "0  https://hh.ru/vacancy/30451399?query=Python   Открытые Технологии   \n",
       "1  https://hh.ru/vacancy/31067847?query=Python         ООО Коннектом   \n",
       "2  https://hh.ru/vacancy/30226206?query=Python          NetworkOptix   \n",
       "3  https://hh.ru/vacancy/31078426?query=Python              DataFork   \n",
       "4  https://hh.ru/vacancy/30109493?query=Python            Star-staff   \n",
       "\n",
       "                                         requirement    salary  знание  языка  \\\n",
       "0  Знание языка Python (версия 2 и 3). Опыт работ...  150000.0       0      0   \n",
       "1  Инициативность и целеустремленность. Хорошее з...  160000.0       0      0   \n",
       "2  Bachelor or master degree in STEM field. Exper...    4000.0       0      0   \n",
       "3  Умение читать / писать код на python и С++. Оп...  350000.0       0      0   \n",
       "4  Коммерческий опыт на Python минимум 2-3 года. ...  145000.0       0      0   \n",
       "\n",
       "   python  (версия  2  ...  работы  с  фреймворками:  tornado  (async),  \\\n",
       "0       0        0  0  ...       0  0              0        0         0   \n",
       "1       0        0  0  ...       0  0              0        0         0   \n",
       "2       0        0  0  ...       0  0              0        0         0   \n",
       "3       0        0  0  ...       0  0              0        0         0   \n",
       "4       0        0  0  ...       0  0              0        0         0   \n",
       "\n",
       "   flask,  bottle.  написания  sql  запросов.  \n",
       "0       0        0          0    0          0  \n",
       "1       0        0          0    0          0  \n",
       "2       0        0          0    0          0  \n",
       "3       0        0          0    0          0  \n",
       "4       0        0          0    0          0  \n",
       "\n",
       "[5 rows x 23 columns]"
      ]
     },
     "execution_count": 25,
     "metadata": {},
     "output_type": "execute_result"
    }
   ],
   "source": [
    "df.head()"
   ]
  },
  {
   "cell_type": "code",
   "execution_count": null,
   "metadata": {},
   "outputs": [],
   "source": []
  }
 ],
 "metadata": {
  "kernelspec": {
   "display_name": "Python 3",
   "language": "python",
   "name": "python3"
  },
  "language_info": {
   "codemirror_mode": {
    "name": "ipython",
    "version": 3
   },
   "file_extension": ".py",
   "mimetype": "text/x-python",
   "name": "python",
   "nbconvert_exporter": "python",
   "pygments_lexer": "ipython3",
   "version": "3.6.8"
  }
 },
 "nbformat": 4,
 "nbformat_minor": 2
}
